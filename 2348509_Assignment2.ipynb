{
 "cells": [
  {
   "cell_type": "markdown",
   "metadata": {},
   "source": [
    "A kernel, in the context of image processing, is a small matrix that is used for various operations such as blurring, sharpening, edge detection, and more. When performing operations like convolution or filtering on an image, a kernel is applied to each pixel of the image to produce a new value for that pixel. The size and values within the kernel matrix determine the specific effect or operation being applied to the image.\n",
    "\n",
    "Here's how the convolution process works with a kernel:\n",
    "\n",
    "1. Place the kernel matrix on top of the target pixel in the image.\n",
    "2. Multiply each element of the kernel with the corresponding pixel value in the image.\n",
    "3. Sum up all the products.\n",
    "4. Replace the target pixel value with the result of the summation.\n",
    "\n",
    "The key aspect of the kernel is that it acts as a weighted average or a mathematical operation that can emphasize certain features or characteristics of the image. Different kernels will produce different effects:\n",
    "\n",
    "- **Blurring kernels**: These kernels typically have equal or weighted values, which result in averaging the pixel values around a specific pixel. This reduces noise and smoothens the image.\n",
    "- **Sharpening kernels**: These kernels emphasize edges and details in the image by accentuating the differences in pixel values.\n",
    "- **Edge detection kernels**: These kernels highlight edges or boundaries between different regions in the image by detecting abrupt changes in pixel intensity.\n",
    "\n",
    "In summary, kernels are fundamental in image processing as they define the specific operation applied to each pixel in the image during convolution, allowing for a wide range of image enhancements and manipulations."
   ]
  },
  {
   "cell_type": "markdown",
   "metadata": {},
   "source": [
    "**Importing the required libraries**"
   ]
  },
  {
   "cell_type": "code",
   "execution_count": 6,
   "metadata": {},
   "outputs": [],
   "source": [
    "import cv2\n",
    "import numpy as np\n",
    "from scipy import ndimage\n",
    "import warnings\n",
    "warnings.filterwarnings(\"ignore\")"
   ]
  },
  {
   "cell_type": "markdown",
   "metadata": {},
   "source": [
    "**Reading the Image and then using a Gray Scaling the image for ease of operations**"
   ]
  },
  {
   "cell_type": "code",
   "execution_count": 7,
   "metadata": {},
   "outputs": [],
   "source": [
    "img = cv2.imread('images.jpeg')\n",
    "gray_img = cv2.cvtColor(img, cv2.COLOR_BGR2GRAY)"
   ]
  },
  {
   "cell_type": "markdown",
   "metadata": {},
   "source": [
    "**Defining the kernels**\n",
    "\n",
    "How do the values of the kernel matrix effect the image?\n",
    "1. *Magnitue of values*: The magnitude of the values of the kernel matrix determines the intensity of the effect. Higher magnitude values will result in a more pronounced effect on the image, while lower magnitude values will produce a subtler effect.\n",
    "\n",
    "2. *Postive vs. Negative Values*: Positive values in the kernel matrix will enhance or brighten certain features in the image, while negative values will supress or darken them. The ombination of positive and negative values allows for selective enhancement or suppression of image features.\n",
    "\n",
    "3. *Spatial Arrangement*: The spatial arrangement of the values in the kernel matrix determines the direction and shape of the effect. For example, kernels with positive values arranged in a cross shape are often used for edge detection, while kernels with central positve values surrounded by negative values are used for sharpening.\n",
    "\n",
    "4. *Normalization*: Normalizing the kernel matrix will ensure that the sum of all values in the matrix is equal to 1 or within a certain range. Normalization helps maintain the overall brightness level of the image and prevents artifacts such as over-brightening or darkening.\n",
    "\n",
    "Overall, by adjusting the values in the kernel matrix, it is possible to achieve a wide range of effects including blurring, sharpening, edge detection, and more, allowing for powerful image enhancement and manipulation in image processing."
   ]
  },
  {
   "cell_type": "markdown",
   "metadata": {},
   "source": [
    "**1. Identity Kernel**: Preserves the original image, resulting in no change when applied."
   ]
  },
  {
   "cell_type": "code",
   "execution_count": 8,
   "metadata": {},
   "outputs": [],
   "source": [
    "#define the kernel\n",
    "identity_kernel = np.array([[0,0,0],\n",
    "                            [0,1,0],\n",
    "                            [0,0,0]])\n",
    "\n",
    "#apply the filter\n",
    "identity_img = cv2.filter2D(gray_img, -1, identity_kernel)\n",
    "\n",
    "#display the filtered image\n",
    "cv2.imshow('Identity Image', identity_img)\n",
    "cv2.waitKey(0)\n",
    "cv2.destroyAllWindows()"
   ]
  },
  {
   "cell_type": "markdown",
   "metadata": {},
   "source": [
    "**2. Edge Detection Kernel**: Highlights edges in the image by emphasizing the differences in pixel values."
   ]
  },
  {
   "cell_type": "code",
   "execution_count": 9,
   "metadata": {},
   "outputs": [],
   "source": [
    "#defining the kernel\n",
    "edge_kernel = np.array([[-1,-1,-1],\n",
    "                        [-1,8,-1],\n",
    "                        [-1,-1,-1]])\n",
    "\n",
    "\n",
    "#apply the filter\n",
    "edge_img = cv2.filter2D(gray_img, -1, edge_kernel)\n",
    "\n",
    "#display the filtered image\n",
    "cv2.imshow('Edge Highlighted Image', edge_img)\n",
    "cv2.waitKey(0)\n",
    "cv2.destroyAllWindows()"
   ]
  },
  {
   "cell_type": "markdown",
   "metadata": {},
   "source": [
    "**3. Sharpen Kernel**: Enhances the details and edges in the image, making it appear sharper."
   ]
  },
  {
   "cell_type": "code",
   "execution_count": 11,
   "metadata": {},
   "outputs": [],
   "source": [
    "#defining the kernel\n",
    "sharpen_kernel = np.array([[0,-1,0],\n",
    "                           [-1,5,-1],\n",
    "                           [0,-1,0]])\n",
    "\n",
    "#apply the filter\n",
    "sharp_img = cv2.filter2D(gray_img, -1, sharpen_kernel)\n",
    "\n",
    "#display the image\n",
    "cv2.imshow('Sharpened Image', sharp_img)\n",
    "cv2.waitKey(0)\n",
    "cv2.destroyAllWindows()"
   ]
  },
  {
   "cell_type": "markdown",
   "metadata": {},
   "source": [
    "**4. Box Blur Kernel**: Applies a simple averaging filter, resulting in a smoothed, blurred image."
   ]
  },
  {
   "cell_type": "code",
   "execution_count": 12,
   "metadata": {},
   "outputs": [],
   "source": [
    "#defining the kernel\n",
    "box_blur_kernel = np.ones((3, 3), dtype=np.float32) / 9.0\n",
    "\n",
    "#apply the filter\n",
    "blur_img = cv2.filter2D(gray_img, -1, box_blur_kernel)\n",
    "\n",
    "#display the filtered image\n",
    "cv2.imshow('Blurred Image', blur_img)\n",
    "cv2.waitKey(0)\n",
    "cv2.destroyAllWindows()"
   ]
  },
  {
   "cell_type": "markdown",
   "metadata": {},
   "source": [
    "**5. Gaussian Blur Kernel**: Applies a weighted average, giving more importance to the central pixel, resulting in a smoother blur compared to the box blur."
   ]
  },
  {
   "cell_type": "code",
   "execution_count": 13,
   "metadata": {},
   "outputs": [],
   "source": [
    "#defining the kernel\n",
    "gaussian_blur_kernel = np.array([[1,2,1],\n",
    "                                 [2,4,2],\n",
    "                                 [1,2,1]]) / 16.0\n",
    "\n",
    "#apply the filter\n",
    "gauss_img = cv2.filter2D(gray_img, -1, gaussian_blur_kernel)\n",
    "\n",
    "#display the image\n",
    "cv2.imshow('Blurred Image 2', gauss_img)\n",
    "cv2.waitKey(0)\n",
    "cv2.destroyAllWindows()"
   ]
  },
  {
   "cell_type": "code",
   "execution_count": 16,
   "metadata": {},
   "outputs": [],
   "source": [
    "# Apply convolve function with different modes using SciPy\n",
    "modes = ['reflect', 'constant', 'nearest', 'mirror', 'wrap']\n",
    "\n",
    "for mode in modes:\n",
    "    convolved_image = ndimage.convolve(gray_img, edge_kernel, mode=mode)\n",
    "    cv2.imshow(f'Convolved Image with {mode} mode', convolved_image)\n",
    "    cv2.waitKey(0)\n",
    "\n",
    "cv2.destroyAllWindows()"
   ]
  },
  {
   "cell_type": "code",
   "execution_count": null,
   "metadata": {},
   "outputs": [],
   "source": []
  }
 ],
 "metadata": {
  "kernelspec": {
   "display_name": "Python 3",
   "language": "python",
   "name": "python3"
  },
  "language_info": {
   "codemirror_mode": {
    "name": "ipython",
    "version": 3
   },
   "file_extension": ".py",
   "mimetype": "text/x-python",
   "name": "python",
   "nbconvert_exporter": "python",
   "pygments_lexer": "ipython3",
   "version": "3.12.1"
  }
 },
 "nbformat": 4,
 "nbformat_minor": 2
}
